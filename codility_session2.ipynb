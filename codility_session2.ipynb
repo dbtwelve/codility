{
  "nbformat": 4,
  "nbformat_minor": 0,
  "metadata": {
    "colab": {
      "name": "codility_session2.ipynb",
      "provenance": [],
      "collapsed_sections": [],
      "authorship_tag": "ABX9TyPhFR/5rDTAjiu+/2kdjgrB",
      "include_colab_link": true
    },
    "kernelspec": {
      "name": "python3",
      "display_name": "Python 3"
    },
    "language_info": {
      "name": "python"
    }
  },
  "cells": [
    {
      "cell_type": "markdown",
      "metadata": {
        "id": "view-in-github",
        "colab_type": "text"
      },
      "source": [
        "<a href=\"https://colab.research.google.com/github/dbtwelve/codility/blob/main/codility_session2.ipynb\" target=\"_parent\"><img src=\"https://colab.research.google.com/assets/colab-badge.svg\" alt=\"Open In Colab\"/></a>"
      ]
    },
    {
      "cell_type": "code",
      "metadata": {
        "id": "hnpP6FC0pTuA"
      },
      "source": [
        ""
      ],
      "execution_count": null,
      "outputs": []
    },
    {
      "cell_type": "markdown",
      "metadata": {
        "id": "m9FJkccrpVr5"
      },
      "source": [
        "A non-empty array A consisting of N integers is given. The array contains an odd number of elements, and each element of the array can be paired with another element that has the same value, except for one element that is left unpaired.\n",
        "\n",
        "For example, in array A such that:\n",
        "\n",
        "  A[0] = 9  A[1] = 3  A[2] = 9\n",
        "  A[3] = 3  A[4] = 9  A[5] = 7\n",
        "  A[6] = 9\n",
        "the elements at indexes 0 and 2 have value 9,\n",
        "the elements at indexes 1 and 3 have value 3,\n",
        "the elements at indexes 4 and 6 have value 9,\n",
        "the element at index 5 has value 7 and is unpaired.\n",
        "Write a function:\n",
        "\n",
        "def solution(A)\n",
        "\n",
        "that, given an array A consisting of N integers fulfilling the above conditions, returns the value of the unpaired element.\n",
        "\n",
        "For example, given array A such that:\n",
        "\n",
        "  A[0] = 9  A[1] = 3  A[2] = 9\n",
        "  A[3] = 3  A[4] = 9  A[5] = 7\n",
        "  A[6] = 9\n",
        "the function should return 7, as explained in the example above.\n",
        "\n",
        "Write an efficient algorithm for the following assumptions:\n",
        "\n",
        "N is an odd integer within the range [1..1,000,000];\n",
        "each element of array A is an integer within the range [1..1,000,000,000];\n",
        "all but one of the values in A occur an even number of times."
      ]
    },
    {
      "cell_type": "code",
      "metadata": {
        "colab": {
          "base_uri": "https://localhost:8080/"
        },
        "id": "r47ouOI5piMG",
        "outputId": "e019705b-7f97-433d-df4a-865105948bae"
      },
      "source": [
        "A = [9, 3, 9, 3, 9, 7, 9]\n",
        "\n",
        "def solution(A):\n",
        "    # write your code in Python 3.6\n",
        "    A.sort()\n",
        "    for i in range(0,len(A),2):\n",
        "        if i+1 == len(A):\n",
        "            return A[i]\n",
        "        if A[i] != A[i+1]:\n",
        "            return A[i]\n",
        "    \n",
        "solution(A)"
      ],
      "execution_count": 1,
      "outputs": [
        {
          "output_type": "execute_result",
          "data": {
            "text/plain": [
              "7"
            ]
          },
          "metadata": {
            "tags": []
          },
          "execution_count": 1
        }
      ]
    },
    {
      "cell_type": "markdown",
      "metadata": {
        "id": "TkhtVUcBsP0n"
      },
      "source": [
        ""
      ]
    },
    {
      "cell_type": "code",
      "metadata": {
        "colab": {
          "base_uri": "https://localhost:8080/"
        },
        "id": "lpv9xWiHqBXU",
        "outputId": "74d61d40-7d65-400a-8830-75b8c8c527a6"
      },
      "source": [
        "A = [9, 3, 9, 3, 9, 7, 9]\n",
        "\n",
        "def solution2(A):\n",
        "    # write your code in Python 3.6\n",
        "    sum = 0\n",
        "    for i in A:\n",
        "        sum = sum ^ i\n",
        "    return sum\n",
        "    \n",
        "solution2(A)"
      ],
      "execution_count": 2,
      "outputs": [
        {
          "output_type": "execute_result",
          "data": {
            "text/plain": [
              "7"
            ]
          },
          "metadata": {
            "tags": []
          },
          "execution_count": 2
        }
      ]
    },
    {
      "cell_type": "code",
      "metadata": {
        "id": "zm2eHdekqPwY"
      },
      "source": [
        ""
      ],
      "execution_count": null,
      "outputs": []
    },
    {
      "cell_type": "markdown",
      "metadata": {
        "id": "5lPnY3Z5sSHv"
      },
      "source": [
        "An array A consisting of N integers is given. Rotation of the array means that each element is shifted right by one index, and the last element of the array is moved to the first place. For example, the rotation of array A = [3, 8, 9, 7, 6] is [6, 3, 8, 9, 7] (elements are shifted right by one index and 6 is moved to the first place).\n",
        "\n",
        "The goal is to rotate array A K times; that is, each element of A will be shifted to the right K times.\n",
        "\n",
        "Write a function:\n",
        "\n",
        "def solution(A, K)\n",
        "\n",
        "that, given an array A consisting of N integers and an integer K, returns the array A rotated K times.\n",
        "\n",
        "For example, given\n",
        "\n",
        "    A = [3, 8, 9, 7, 6]\n",
        "    K = 3\n",
        "the function should return [9, 7, 6, 3, 8]. Three rotations were made:\n",
        "\n",
        "    [3, 8, 9, 7, 6] -> [6, 3, 8, 9, 7]\n",
        "    [6, 3, 8, 9, 7] -> [7, 6, 3, 8, 9]\n",
        "    [7, 6, 3, 8, 9] -> [9, 7, 6, 3, 8]\n",
        "For another example, given\n",
        "\n",
        "    A = [0, 0, 0]\n",
        "    K = 1\n",
        "the function should return [0, 0, 0]\n",
        "\n",
        "Given\n",
        "\n",
        "    A = [1, 2, 3, 4]\n",
        "    K = 4\n",
        "the function should return [1, 2, 3, 4]\n",
        "\n",
        "Assume that:\n",
        "\n",
        "N and K are integers within the range [0..100];\n",
        "each element of array A is an integer within the range [−1,000..1,000].\n",
        "In your solution, focus on correctness. The performance of your solution will not be the focus of the assessment."
      ]
    },
    {
      "cell_type": "code",
      "metadata": {
        "colab": {
          "base_uri": "https://localhost:8080/"
        },
        "id": "SP2yc7G5scWY",
        "outputId": "8512072d-1ff2-4657-9c2e-b872e9cc48f1"
      },
      "source": [
        "A, K = [1, 2, 3, 4], 4\n",
        "A = [3, 8, 9, 7, 6]\n",
        "K = 3\n",
        "\n",
        "\n",
        "def solution(A, K):\n",
        "    N = len(A)\n",
        "    if N == K or N == 0 :\n",
        "        return A\n",
        "    return A[N-K:] + A[:N-K]\n",
        "\n",
        "solution(A,K)"
      ],
      "execution_count": 5,
      "outputs": [
        {
          "output_type": "execute_result",
          "data": {
            "text/plain": [
              "[9, 7, 6, 3, 8]"
            ]
          },
          "metadata": {
            "tags": []
          },
          "execution_count": 5
        }
      ]
    }
  ]
}