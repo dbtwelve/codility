{
  "nbformat": 4,
  "nbformat_minor": 0,
  "metadata": {
    "colab": {
      "name": "codility_session3.ipynb",
      "provenance": [],
      "authorship_tag": "ABX9TyP5+R8GkWBXNER21gxYnvy3",
      "include_colab_link": true
    },
    "kernelspec": {
      "name": "python3",
      "display_name": "Python 3"
    },
    "language_info": {
      "name": "python"
    }
  },
  "cells": [
    {
      "cell_type": "markdown",
      "metadata": {
        "id": "view-in-github",
        "colab_type": "text"
      },
      "source": [
        "<a href=\"https://colab.research.google.com/github/dbtwelve/codility/blob/main/codility_session3.ipynb\" target=\"_parent\"><img src=\"https://colab.research.google.com/assets/colab-badge.svg\" alt=\"Open In Colab\"/></a>"
      ]
    },
    {
      "cell_type": "markdown",
      "metadata": {
        "id": "Ub3OpAba18DQ"
      },
      "source": [
        ""
      ]
    },
    {
      "cell_type": "code",
      "metadata": {
        "colab": {
          "base_uri": "https://localhost:8080/"
        },
        "id": "kJJ-WSIC16bV",
        "outputId": "e76a9b09-d8e0-45a2-d779-1d4e0e8ae84a"
      },
      "source": [
        "X = 10\n",
        "Y = 85\n",
        "D = 30\n",
        "\n",
        "#테스트케이스 실패코드\n",
        "def solution(X, Y, D):\n",
        "    count = 0\n",
        "    while X < Y:\n",
        "        X += D\n",
        "        count += 1\n",
        "    return count\n",
        "\n",
        "solution(X,Y,D)"
      ],
      "execution_count": 1,
      "outputs": [
        {
          "output_type": "execute_result",
          "data": {
            "text/plain": [
              "3"
            ]
          },
          "metadata": {
            "tags": []
          },
          "execution_count": 1
        }
      ]
    },
    {
      "cell_type": "code",
      "metadata": {
        "colab": {
          "base_uri": "https://localhost:8080/"
        },
        "id": "OHRoFd8Z31kr",
        "outputId": "f863aaee-68d4-4d8b-80c9-ea151b00954a"
      },
      "source": [
        "X = 10\n",
        "Y = 85\n",
        "D = 30\n",
        "\n",
        "import math\n",
        "\n",
        "def solution(X, Y, D):\n",
        "    return math.ceil((Y-X)/D)\n",
        "\n",
        "solution(X,Y,D)"
      ],
      "execution_count": 3,
      "outputs": [
        {
          "output_type": "execute_result",
          "data": {
            "text/plain": [
              "3"
            ]
          },
          "metadata": {
            "tags": []
          },
          "execution_count": 3
        }
      ]
    }
  ]
}