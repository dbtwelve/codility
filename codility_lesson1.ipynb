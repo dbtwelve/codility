{
  "nbformat": 4,
  "nbformat_minor": 0,
  "metadata": {
    "colab": {
      "name": "codility_lesson1.ipynb",
      "provenance": [],
      "collapsed_sections": [],
      "authorship_tag": "ABX9TyMxf85mUTggQnJeRLnFOeMT",
      "include_colab_link": true
    },
    "kernelspec": {
      "name": "python3",
      "display_name": "Python 3"
    },
    "language_info": {
      "name": "python"
    }
  },
  "cells": [
    {
      "cell_type": "markdown",
      "metadata": {
        "id": "view-in-github",
        "colab_type": "text"
      },
      "source": [
        "<a href=\"https://colab.research.google.com/github/dbtwelve/codility/blob/main/codility_lesson1.ipynb\" target=\"_parent\"><img src=\"https://colab.research.google.com/assets/colab-badge.svg\" alt=\"Open In Colab\"/></a>"
      ]
    },
    {
      "cell_type": "markdown",
      "metadata": {
        "id": "0Q6ItJzkvfpl"
      },
      "source": [
        "# Iterations\n",
        "BinaryGap"
      ]
    },
    {
      "cell_type": "code",
      "metadata": {
        "colab": {
          "base_uri": "https://localhost:8080/"
        },
        "id": "RuT_jWCPya4P",
        "outputId": "f9a5d89d-f0c9-4853-8fb2-4782f6f332d1"
      },
      "source": [
        "number = 529\n",
        "number = 1041\n",
        "number = 32\n",
        "\n",
        "def solution(N):\n",
        "    max_count = 0\n",
        "    count =0\n",
        "    for i in bin(N)[2:]:\n",
        "        if i == '1':\n",
        "            if max_count < count:\n",
        "                max_count = count\n",
        "            count = 0\n",
        "        if i == '0':\n",
        "            count += 1\n",
        "\n",
        "    return max_count\n",
        "\n",
        "solution(number)"
      ],
      "execution_count": null,
      "outputs": [
        {
          "output_type": "execute_result",
          "data": {
            "text/plain": [
              "0"
            ]
          },
          "metadata": {
            "tags": []
          },
          "execution_count": 27
        }
      ]
    }
  ]
}