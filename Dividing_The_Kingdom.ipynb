{
  "nbformat": 4,
  "nbformat_minor": 0,
  "metadata": {
    "colab": {
      "name": "Dividing The Kingdom.ipynb",
      "provenance": [],
      "authorship_tag": "ABX9TyNg6pKm6vvOdxYIoW5gW8+R",
      "include_colab_link": true
    },
    "kernelspec": {
      "name": "python3",
      "display_name": "Python 3"
    },
    "language_info": {
      "name": "python"
    }
  },
  "cells": [
    {
      "cell_type": "markdown",
      "metadata": {
        "id": "view-in-github",
        "colab_type": "text"
      },
      "source": [
        "<a href=\"https://colab.research.google.com/github/dbtwelve/codility/blob/main/Dividing_The_Kingdom.ipynb\" target=\"_parent\"><img src=\"https://colab.research.google.com/assets/colab-badge.svg\" alt=\"Open In Colab\"/></a>"
      ]
    },
    {
      "cell_type": "markdown",
      "metadata": {
        "id": "LSMD7EFDjrSi"
      },
      "source": [
        "# Digital Gold ASML"
      ]
    },
    {
      "cell_type": "markdown",
      "metadata": {
        "id": "qbLyPvwKf_KA"
      },
      "source": [
        "# Dividing The Kingdom"
      ]
    },
    {
      "cell_type": "code",
      "metadata": {
        "colab": {
          "base_uri": "https://localhost:8080/"
        },
        "id": "8hTWyngaf-Un",
        "outputId": "1768013f-a43c-45b7-abe9-4725aafcb969"
      },
      "source": [
        "N,M,X,Y=5, 5, [0, 4, 2, 0], [0, 0, 1, 4]\n",
        "N,M,X,Y=5,8,[0,1,2,3],[0,2,5,8]\n",
        "N,M,X,Y=4,10,[0,0,1,3],[3,4,4,9]\n",
        "N,M,X,Y=1,1,[0],[0]\n",
        "N,M,X,Y=1,2,[0],[0]\n",
        "N,M,X,Y=1,2,[0,0],[0,1]\n",
        "N,M,X,Y=1, 3, [0, 0, 0], [2, 1, 0]\n",
        "\n",
        "#85% O(N+M+K)\n",
        "def solution(N, M, X, Y):\n",
        "    # write your code in Python 3.6\n",
        "    if N == 1 and M == 1:\n",
        "        return 0\n",
        "\n",
        "    if len(X) == 1 and len(Y) == 1:\n",
        "        return 0\n",
        "    count = 0\n",
        "    X.sort()\n",
        "    Y.sort()\n",
        "    X_half = len(X) // 2\n",
        "    Y_half = len(Y) // 2\n",
        "    x1 = max(X[ : X_half])\n",
        "    x2 = min(X[X_half : ])\n",
        "    y1 = max(Y[ : Y_half] )\n",
        "    y2 = min(Y[Y_half : ])\n",
        "    #print(abs(x1-x2),abs(y1-y2))\n",
        "    return abs(x1-x2)+abs(y1-y2)\n",
        "\n",
        "\n",
        "solution(N,M,X,Y)"
      ],
      "execution_count": 15,
      "outputs": [
        {
          "output_type": "execute_result",
          "data": {
            "text/plain": [
              "0"
            ]
          },
          "metadata": {
            "tags": []
          },
          "execution_count": 15
        }
      ]
    },
    {
      "cell_type": "code",
      "metadata": {
        "colab": {
          "base_uri": "https://localhost:8080/"
        },
        "id": "6PJa01ukjO0V",
        "outputId": "56dd7cbc-aa62-4f45-c207-86cbede71f84"
      },
      "source": [
        "N,M,X,Y=5, 5, [0, 4, 2, 0], [0, 0, 1, 4]\n",
        "N,M,X,Y=5,8,[0,1,2,3],[0,2,5,8]\n",
        "N,M,X,Y=4,10,[0,0,1,3],[3,4,4,9]\n",
        "N,M,X,Y=1,1,[0],[0]\n",
        "N,M,X,Y=1,2,[0],[0]\n",
        "N,M,X,Y=1,2,[0,0],[0,1]\n",
        "N,M,X,Y=1, 3, [0, 0, 0], [2, 1, 0]\n",
        "\n",
        "#100% O(N+M+K)\n",
        "def solution(N, M, X, Y):\n",
        "    # write your code in Python 3.6\n",
        "    if N == 1 and M == 1:\n",
        "        return 0\n",
        "    \n",
        "    if len(X)%2 == 1 and len(Y)%2 ==1:\n",
        "        return 0\n",
        "    \n",
        "    X.sort()\n",
        "    Y.sort()\n",
        "    X_half = len(X)//2\n",
        "    Y_half = len(Y)//2\n",
        "    x1 = max(X[:X_half])\n",
        "    x2 = min(X[X_half:])\n",
        "    y1 = max(Y[:Y_half])\n",
        "    y2 = min(Y[Y_half:])\n",
        "    return abs(x1-x2) + abs(y1-y2)\n",
        "\n",
        "\n",
        "solution(N,M,X,Y)"
      ],
      "execution_count": 16,
      "outputs": [
        {
          "output_type": "execute_result",
          "data": {
            "text/plain": [
              "0"
            ]
          },
          "metadata": {
            "tags": []
          },
          "execution_count": 16
        }
      ]
    }
  ]
}