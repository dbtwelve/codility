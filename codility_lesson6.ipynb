{
  "nbformat": 4,
  "nbformat_minor": 0,
  "metadata": {
    "colab": {
      "name": "codility_lesson6.ipynb",
      "provenance": [],
      "authorship_tag": "ABX9TyP6or8zu5zEJVVdVY0btllZ",
      "include_colab_link": true
    },
    "kernelspec": {
      "name": "python3",
      "display_name": "Python 3"
    },
    "language_info": {
      "name": "python"
    }
  },
  "cells": [
    {
      "cell_type": "markdown",
      "metadata": {
        "id": "view-in-github",
        "colab_type": "text"
      },
      "source": [
        "<a href=\"https://colab.research.google.com/github/dbtwelve/codility/blob/main/codility_lesson6.ipynb\" target=\"_parent\"><img src=\"https://colab.research.google.com/assets/colab-badge.svg\" alt=\"Open In Colab\"/></a>"
      ]
    },
    {
      "cell_type": "markdown",
      "metadata": {
        "id": "CaPEQB3v5aSw"
      },
      "source": [
        "# Sorting"
      ]
    },
    {
      "cell_type": "markdown",
      "metadata": {
        "id": "5jvecGpY5hXR"
      },
      "source": [
        "Distinct"
      ]
    },
    {
      "cell_type": "code",
      "metadata": {
        "colab": {
          "base_uri": "https://localhost:8080/"
        },
        "id": "-UWNaeG35Xku",
        "outputId": "86c1aba8-8fc0-41c0-a85a-27dbd3ac5170"
      },
      "source": [
        "numbers = [2,1,1,2,3,1]\n",
        "\n",
        "#100% O(N*log(N)) or O(N)\n",
        "def solution(A):\n",
        "    \n",
        "    return len(set(A))\n",
        "\n",
        "solution(numbers)"
      ],
      "execution_count": 6,
      "outputs": [
        {
          "output_type": "execute_result",
          "data": {
            "text/plain": [
              "3"
            ]
          },
          "metadata": {
            "tags": []
          },
          "execution_count": 6
        }
      ]
    },
    {
      "cell_type": "code",
      "metadata": {
        "colab": {
          "base_uri": "https://localhost:8080/"
        },
        "id": "RvMBUrAP64Cb",
        "outputId": "19a59f53-0793-4e18-80bf-368733c0ae6d"
      },
      "source": [
        "numbers = [2,1,1,2,3,1]\n",
        "\n",
        "#100% O(N*log(N)) or O(N)\n",
        "def solution(A):\n",
        "    if len(A) == 0:\n",
        "        return 0\n",
        " \n",
        "    A.sort()\n",
        " \n",
        "    nr_values = 1\n",
        "    last_value = A[0]\n",
        " \n",
        "    for idx in range(1, len(A)):\n",
        "        if A[idx] != last_value:\n",
        "            nr_values += 1\n",
        "            last_value = A[idx]\n",
        " \n",
        "    return nr_values\n",
        "\n",
        "solution(numbers)"
      ],
      "execution_count": 4,
      "outputs": [
        {
          "output_type": "execute_result",
          "data": {
            "text/plain": [
              "3"
            ]
          },
          "metadata": {
            "tags": []
          },
          "execution_count": 4
        }
      ]
    },
    {
      "cell_type": "markdown",
      "metadata": {
        "id": "j2JmYHim_Byd"
      },
      "source": [
        "MaxProductOfThree"
      ]
    },
    {
      "cell_type": "code",
      "metadata": {
        "colab": {
          "base_uri": "https://localhost:8080/"
        },
        "id": "jeiy5LTN_CG4",
        "outputId": "04c22d10-aac4-4573-8f3e-f077d8eb8063"
      },
      "source": [
        "numbers = [-3, 1, 2, -2, 5, 6]\n",
        "\n",
        "#44%\n",
        "def solution(A):\n",
        "    A.sort()\n",
        "    return A[-1] * A[-2] * A[-3]\n",
        "\n",
        "solution(numbers)"
      ],
      "execution_count": 7,
      "outputs": [
        {
          "output_type": "execute_result",
          "data": {
            "text/plain": [
              "60"
            ]
          },
          "metadata": {
            "tags": []
          },
          "execution_count": 7
        }
      ]
    },
    {
      "cell_type": "code",
      "metadata": {
        "colab": {
          "base_uri": "https://localhost:8080/"
        },
        "id": "4AXXhHCeCzcP",
        "outputId": "20d66faf-a2f5-4dfc-fb7c-4284fd5f1948"
      },
      "source": [
        "numbers = [-3, 1, 2, -2, 5, 6]\n",
        "numbers = [-5,5,-5,4]\n",
        "\n",
        "#100% O(N * log(N))\n",
        "def solution(A):\n",
        "    # write your code in Python 3.6\n",
        "    A.sort()\n",
        "    return max(A[-1]*A[-2]*A[-3], A[0]*A[1]*A[-1])\n",
        "\n",
        "solution(numbers)"
      ],
      "execution_count": 10,
      "outputs": [
        {
          "output_type": "execute_result",
          "data": {
            "text/plain": [
              "125"
            ]
          },
          "metadata": {
            "tags": []
          },
          "execution_count": 10
        }
      ]
    },
    {
      "cell_type": "markdown",
      "metadata": {
        "id": "bGZdi8qXFIk8"
      },
      "source": [
        "Triangle"
      ]
    },
    {
      "cell_type": "code",
      "metadata": {
        "colab": {
          "base_uri": "https://localhost:8080/"
        },
        "id": "G4ERCVSiFJG1",
        "outputId": "a072fbe8-26b4-4c9a-b357-66dadac17735"
      },
      "source": [
        "numbers = [10, 2, 5, 1, 8, 20]\n",
        "numbers = [10,50,5,1]\n",
        "\n",
        "#100% O(N*log(N))\n",
        "def solution(A):\n",
        "    # write your code in Python 3.6\n",
        "    if len(A) < 3:\n",
        "        return 0\n",
        "    A.sort()\n",
        "    for i in range(len(A)-2):\n",
        "        if A[i] + A[i+1] > A[i+2] and A[i+1] + A[i+2] > A[i] and A[i+2] + A[i] > A[i+1]:\n",
        "            return 1\n",
        "    return 0\n",
        "\n",
        "solution(numbers)"
      ],
      "execution_count": 11,
      "outputs": [
        {
          "output_type": "execute_result",
          "data": {
            "text/plain": [
              "0"
            ]
          },
          "metadata": {
            "tags": []
          },
          "execution_count": 11
        }
      ]
    },
    {
      "cell_type": "markdown",
      "metadata": {
        "id": "55pJ4lOlNHFs"
      },
      "source": [
        "NumberOfDiscIntersections"
      ]
    },
    {
      "cell_type": "code",
      "metadata": {
        "colab": {
          "base_uri": "https://localhost:8080/"
        },
        "id": "PPdR9GGvNIZs",
        "outputId": "3fa12a3d-acc8-4e6b-815b-34a0d075206c"
      },
      "source": [
        "numbers = [1, 5, 2, 1, 4, 0]\n",
        "#numbers = []\n",
        "\n",
        "def solution(A):\n",
        "    # write your code in Python 3.6\n",
        "    if len(A) < 2:\n",
        "        return -1\n",
        "    arr = []\n",
        "    for i in range(len(A)):\n",
        "        if A[i] ==0:\n",
        "            arr.append(i)\n",
        "        else:\n",
        "            arr.append(i-A[i])\n",
        "            arr.append(i+A[i])\n",
        "    print(arr)\n",
        "    return len(arr)\n",
        "\n",
        "solution(numbers)"
      ],
      "execution_count": 16,
      "outputs": [
        {
          "output_type": "stream",
          "text": [
            "[-1, 1, -4, 6, 0, 4, 2, 4, 0, 8, 5]\n"
          ],
          "name": "stdout"
        },
        {
          "output_type": "execute_result",
          "data": {
            "text/plain": [
              "11"
            ]
          },
          "metadata": {
            "tags": []
          },
          "execution_count": 16
        }
      ]
    },
    {
      "cell_type": "code",
      "metadata": {
        "colab": {
          "base_uri": "https://localhost:8080/"
        },
        "id": "R3MdagxUVbAj",
        "outputId": "a320cd46-fab4-4f34-f304-423bab82a5a1"
      },
      "source": [
        "numbers = [1, 5, 2, 1, 4, 0]\n",
        "#numbers = []\n",
        "\n",
        "#100% O(N*log(N)) or O(N)\n",
        "def solution(A):\n",
        "    arr = []\n",
        "    for i in range(len(A)):\n",
        "        arr.append((i-A[i],-1))\n",
        "        arr.append((i+A[i],1))\n",
        "    arr.sort()\n",
        "    count = 0\n",
        "    intersect = 0\n",
        "    for v,o in arr:\n",
        "        if o == -1:\n",
        "            count += intersect\n",
        "            intersect += 1\n",
        "        else:\n",
        "            intersect -= 1\n",
        "    if count > 10000000:\n",
        "        return -1\n",
        "    return count\n",
        "\n",
        "solution(numbers)"
      ],
      "execution_count": 18,
      "outputs": [
        {
          "output_type": "execute_result",
          "data": {
            "text/plain": [
              "11"
            ]
          },
          "metadata": {
            "tags": []
          },
          "execution_count": 18
        }
      ]
    }
  ]
}