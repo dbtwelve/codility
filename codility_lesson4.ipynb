{
  "nbformat": 4,
  "nbformat_minor": 0,
  "metadata": {
    "colab": {
      "name": "codility_lesson4.ipynb",
      "provenance": [],
      "authorship_tag": "ABX9TyNgdFQlxvf0x+zev0nHuEVB",
      "include_colab_link": true
    },
    "kernelspec": {
      "name": "python3",
      "display_name": "Python 3"
    },
    "language_info": {
      "name": "python"
    }
  },
  "cells": [
    {
      "cell_type": "markdown",
      "metadata": {
        "id": "view-in-github",
        "colab_type": "text"
      },
      "source": [
        "<a href=\"https://colab.research.google.com/github/dbtwelve/codility/blob/main/codility_lesson4.ipynb\" target=\"_parent\"><img src=\"https://colab.research.google.com/assets/colab-badge.svg\" alt=\"Open In Colab\"/></a>"
      ]
    },
    {
      "cell_type": "markdown",
      "metadata": {
        "id": "77k78X2R1nul"
      },
      "source": [
        "# Counting Elements"
      ]
    },
    {
      "cell_type": "markdown",
      "metadata": {
        "id": "Ol9tMuPh1nTT"
      },
      "source": [
        "FrogRiverOne"
      ]
    },
    {
      "cell_type": "code",
      "metadata": {
        "colab": {
          "base_uri": "https://localhost:8080/"
        },
        "id": "gwTiJy1s1jW7",
        "outputId": "4e0bc373-5028-43f0-ae32-517dea59b92e"
      },
      "source": [
        "X = 5\n",
        "A = [1,3,1,4,2,3,5,4]\n",
        "\n",
        "#테스트케이스에서 time out 발생\n",
        "def solution(X, A):\n",
        "    arr = [0] * X\n",
        "    count = 0\n",
        "    for i in A:\n",
        "        if arr[i-1] == 0:\n",
        "            arr[i-1] = 1   \n",
        "            if 0 not in arr:\n",
        "                return count\n",
        "        count += 1\n",
        "    return -1\n",
        "\n",
        "solution(X,A)"
      ],
      "execution_count": null,
      "outputs": [
        {
          "output_type": "execute_result",
          "data": {
            "text/plain": [
              "6"
            ]
          },
          "metadata": {
            "tags": []
          },
          "execution_count": 3
        }
      ]
    },
    {
      "cell_type": "code",
      "metadata": {
        "colab": {
          "base_uri": "https://localhost:8080/"
        },
        "id": "A4YyJgQEIL0-",
        "outputId": "77b8ac15-06de-46a6-d25b-5ae9b5abd373"
      },
      "source": [
        "X = 5\n",
        "A = [1,3,1,4,2,3,5,4]\n",
        "\n",
        "import collections\n",
        "def solution(X, A):\n",
        "    dict=collections.defaultdict(int)\n",
        "    for i,e in enumerate(A):\n",
        "        dict[e]=1\n",
        "        if len(dict)==X:\n",
        "            return i\n",
        "            \n",
        "    return -1\n",
        "\n",
        "solution(X,A)"
      ],
      "execution_count": null,
      "outputs": [
        {
          "output_type": "execute_result",
          "data": {
            "text/plain": [
              "6"
            ]
          },
          "metadata": {
            "tags": []
          },
          "execution_count": 4
        }
      ]
    },
    {
      "cell_type": "code",
      "metadata": {
        "colab": {
          "base_uri": "https://localhost:8080/"
        },
        "id": "lDYmuuulJn1l",
        "outputId": "263b9efe-fc86-40e9-e3af-295d9c416d7f"
      },
      "source": [
        "X = 5\n",
        "A = [1,3,1,4,2,3,5,4]\n",
        "\n",
        "def solution(X, A):\n",
        "    # write your code in Python 3.6\n",
        "    arr = set()\n",
        "    for i in range(len(A)):\n",
        "        arr.add(A[i])\n",
        "        if len(arr) == X:\n",
        "            return i\n",
        "    return -1\n",
        "\n",
        "solution(X,A)"
      ],
      "execution_count": null,
      "outputs": [
        {
          "output_type": "execute_result",
          "data": {
            "text/plain": [
              "6"
            ]
          },
          "metadata": {
            "tags": []
          },
          "execution_count": 5
        }
      ]
    },
    {
      "cell_type": "markdown",
      "metadata": {
        "id": "-mK04J3jaYHC"
      },
      "source": [
        "MaxCounters"
      ]
    },
    {
      "cell_type": "code",
      "metadata": {
        "id": "ZZKX72IrsBug"
      },
      "source": [
        "import time"
      ],
      "execution_count": null,
      "outputs": []
    },
    {
      "cell_type": "code",
      "metadata": {
        "colab": {
          "base_uri": "https://localhost:8080/"
        },
        "id": "NtuNku-4aYqc",
        "outputId": "bcb7bb0e-d464-42e3-db65-0dbe47f1c614"
      },
      "source": [
        "N = 5\n",
        "A = [3, 4, 4, 6, 1, 4, 4]\n",
        "\n",
        "#테스트케이스 time out 발생\n",
        "def solution(N, A):\n",
        "    answer = [0]*N\n",
        "    for i in A:\n",
        "        if i > N:\n",
        "            answer = [max(answer)]*N\n",
        "        else:\n",
        "            answer[i-1] += 1\n",
        "    return answer\n",
        "\n",
        "solution(N,A)"
      ],
      "execution_count": null,
      "outputs": [
        {
          "output_type": "execute_result",
          "data": {
            "text/plain": [
              "[3, 2, 2, 4, 2]"
            ]
          },
          "metadata": {
            "tags": []
          },
          "execution_count": 8
        }
      ]
    },
    {
      "cell_type": "code",
      "metadata": {
        "id": "H3qGL1bWbA3j"
      },
      "source": [
        ""
      ],
      "execution_count": null,
      "outputs": []
    },
    {
      "cell_type": "code",
      "metadata": {
        "colab": {
          "base_uri": "https://localhost:8080/"
        },
        "id": "c1bCCgRoh1fT",
        "outputId": "415e5250-eba5-4859-f22d-11196d3a6e59"
      },
      "source": [
        "N = 5\n",
        "A = [3, 4, 4, 6, 1, 4, 4]\n",
        "\n",
        "\n",
        "def solution(N, A):\n",
        "    # write your code in Python 3.6\n",
        "    arr = [0]*N\n",
        "    max_num = 0\n",
        "    for i in A:\n",
        "        if i > N:\n",
        "            max_num = max(arr)\n",
        "        else:\n",
        "            if arr[i-1] < max_num:\n",
        "                arr[i-1] = max_num\n",
        "            arr[i-1] += 1\n",
        "    \n",
        "    for i in arr:\n",
        "        if arr[i-1] < max_num:\n",
        "            arr[i-1] = max_num\n",
        "    return arr\n",
        "\n",
        "start_time = time.time()\n",
        "solution(N,A)\n",
        "print(time.time() - start_time)"
      ],
      "execution_count": null,
      "outputs": [
        {
          "output_type": "stream",
          "text": [
            "7.963180541992188e-05\n"
          ],
          "name": "stdout"
        }
      ]
    },
    {
      "cell_type": "code",
      "metadata": {
        "colab": {
          "base_uri": "https://localhost:8080/"
        },
        "id": "dSyktN36nVfm",
        "outputId": "b8a96df1-db1c-428a-e5f4-e2bf06631016"
      },
      "source": [
        "N = 5\n",
        "A = [3, 4, 4, 6, 1, 4, 4]\n",
        "\n",
        "def solution(N, A):\n",
        "    # write your code in Python 3.6\n",
        "    arr = [0]*N\n",
        "    max_count = 0\n",
        "    curr_count = 0\n",
        "    for i in A:\n",
        "        if i <= N:\n",
        "            arr[i-1] = max(max_count + 1, arr[i-1] + 1)\n",
        "            curr_count = max(curr_count, arr[i-1])\n",
        "        else:\n",
        "            max_count = curr_count\n",
        "    for i in arr:\n",
        "        if max_count > arr[i]:\n",
        "            arr[i] = max_count\n",
        "    return arr\n",
        "\n",
        "start_time = time.time()\n",
        "solution(N,A)\n",
        "print(time.time() - start_time)"
      ],
      "execution_count": null,
      "outputs": [
        {
          "output_type": "stream",
          "text": [
            "0.0002167224884033203\n"
          ],
          "name": "stdout"
        }
      ]
    },
    {
      "cell_type": "code",
      "metadata": {
        "colab": {
          "base_uri": "https://localhost:8080/"
        },
        "id": "ipMmxUQxriMc",
        "outputId": "cd199356-bfc0-49d3-952a-12409d44bb4f"
      },
      "source": [
        "N = 5\n",
        "A = [3, 4, 4, 6, 1, 4, 4]\n",
        "\n",
        "def solution(N, A):\n",
        "    # write your code in Python 3.6\n",
        "    arr = [0]*N\n",
        "    max_num = 0\n",
        "    curr_num = 0\n",
        "    for i in A:\n",
        "        if i <= N:\n",
        "            arr[i-1] = max(max_num + 1, arr[i-1] + 1)\n",
        "            curr_num = max(curr_num, arr[i-1])\n",
        "        else:\n",
        "            max_num = curr_num\n",
        "    return [max_num if i < max_num else i for i in arr]\n",
        "\n",
        "start_time = time.time()\n",
        "solution(N,A)\n",
        "print(time.time() - start_time)"
      ],
      "execution_count": null,
      "outputs": [
        {
          "output_type": "stream",
          "text": [
            "5.340576171875e-05\n"
          ],
          "name": "stdout"
        }
      ]
    },
    {
      "cell_type": "markdown",
      "metadata": {
        "id": "bBm3KuQOwjup"
      },
      "source": [
        "MissingInteger"
      ]
    },
    {
      "cell_type": "code",
      "metadata": {
        "colab": {
          "base_uri": "https://localhost:8080/"
        },
        "id": "7VLLCGukwjXj",
        "outputId": "1e6faae0-28c9-4977-f14d-8749d60948af"
      },
      "source": [
        "numbers = [1, 3, 6, 4, 1, 2]\n",
        "numbers = [1, 2, 3]\n",
        "numbers = [-1, -3]\n",
        "\n",
        "#실패코드\n",
        "def solution(A):\n",
        "    A = sorted(list(set(A)))\n",
        "    l = len(A)\n",
        "    if l < 1 or A[-1] < 1:\n",
        "        return 1\n",
        "    for i in range(1,len(A)):\n",
        "        if A[i] > 0 or A[i-1] > 0:\n",
        "            if A[i] - A[i-1] > 1:\n",
        "                return A[i-1] + 1\n",
        "\n",
        "    return A[-1] + 1\n",
        "\n",
        "solution(numbers)"
      ],
      "execution_count": null,
      "outputs": [
        {
          "output_type": "execute_result",
          "data": {
            "text/plain": [
              "1"
            ]
          },
          "metadata": {
            "tags": []
          },
          "execution_count": 29
        }
      ]
    },
    {
      "cell_type": "code",
      "metadata": {
        "id": "Zp4CKCpF1L2E"
      },
      "source": [
        "numbers = [1, 3, 6, 4, 1, 2]\n",
        "numbers = [1, 2, 3]\n",
        "numbers = [-1, -3]\n",
        "\n",
        "#100%\n",
        "def solution(A):\n",
        "    A = sorted(list(set(A)))\n",
        "    missing = 1\n",
        "    for i in A:\n",
        "        if i == missing:\n",
        "            missing += 1\n",
        "    return missing\n",
        "\n",
        "solution(numbers)"
      ],
      "execution_count": null,
      "outputs": []
    },
    {
      "cell_type": "markdown",
      "metadata": {
        "id": "Wyc784gl1V9Q"
      },
      "source": [
        "perm_check"
      ]
    },
    {
      "cell_type": "code",
      "metadata": {
        "colab": {
          "base_uri": "https://localhost:8080/"
        },
        "id": "_vsRk4v31Wlh",
        "outputId": "b539b045-1bef-4dec-b4b4-b6ea877f084c"
      },
      "source": [
        "numbers = [4, 1, 3, 2]\n",
        "numbers = [4, 1, 3]\n",
        "\n",
        "\n",
        "#66%\n",
        "def solution(A):\n",
        "    # write your code in Python 3.6\n",
        "    B = [i for i in range(1,max(A)+1)]\n",
        "    if sum(A) == sum(B):\n",
        "        return 1\n",
        "    else:\n",
        "        return 0\n",
        "\n",
        "solution(numbers)"
      ],
      "execution_count": null,
      "outputs": [
        {
          "output_type": "execute_result",
          "data": {
            "text/plain": [
              "0"
            ]
          },
          "metadata": {
            "tags": []
          },
          "execution_count": 30
        }
      ]
    },
    {
      "cell_type": "code",
      "metadata": {
        "colab": {
          "base_uri": "https://localhost:8080/"
        },
        "id": "qA7mxod97ZtX",
        "outputId": "c29debf5-8cfd-4a35-b06a-7a9bf7950214"
      },
      "source": [
        "numbers = [4, 1, 3, 2]\n",
        "numbers = [4, 1, 3]\n",
        "\n",
        "\n",
        "#100%\n",
        "def solution(A):\n",
        "    # write your code in Python 3.6\n",
        "    B = list(set(A))\n",
        "    if len(A) != len(B) or max(A) != len(A):\n",
        "        return 0\n",
        "    return 1\n",
        "\n",
        "solution(numbers)"
      ],
      "execution_count": null,
      "outputs": [
        {
          "output_type": "execute_result",
          "data": {
            "text/plain": [
              "0"
            ]
          },
          "metadata": {
            "tags": []
          },
          "execution_count": 31
        }
      ]
    }
  ]
}