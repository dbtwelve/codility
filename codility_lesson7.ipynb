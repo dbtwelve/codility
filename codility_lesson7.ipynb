{
  "nbformat": 4,
  "nbformat_minor": 0,
  "metadata": {
    "colab": {
      "name": "codility_lesson7.ipynb",
      "provenance": [],
      "authorship_tag": "ABX9TyMI6lfiIeftHDYHh1sYwCAg",
      "include_colab_link": true
    },
    "kernelspec": {
      "name": "python3",
      "display_name": "Python 3"
    },
    "language_info": {
      "name": "python"
    }
  },
  "cells": [
    {
      "cell_type": "markdown",
      "metadata": {
        "id": "view-in-github",
        "colab_type": "text"
      },
      "source": [
        "<a href=\"https://colab.research.google.com/github/dbtwelve/codility/blob/main/codility_lesson7.ipynb\" target=\"_parent\"><img src=\"https://colab.research.google.com/assets/colab-badge.svg\" alt=\"Open In Colab\"/></a>"
      ]
    },
    {
      "cell_type": "markdown",
      "metadata": {
        "id": "4ssuSdqX5hUL"
      },
      "source": [
        "# Stacks and Queues"
      ]
    },
    {
      "cell_type": "markdown",
      "metadata": {
        "id": "Yz3QkwhL5iiz"
      },
      "source": [
        "Brackets"
      ]
    },
    {
      "cell_type": "code",
      "metadata": {
        "colab": {
          "base_uri": "https://localhost:8080/"
        },
        "id": "trqq3bpt5cVF",
        "outputId": "f3c32e8c-2622-4dc4-9c32-1844c0a1d977"
      },
      "source": [
        "S = '{[()()]}'\n",
        "S = '([)()]'\n",
        "\n",
        "\n",
        "def solution(S):\n",
        "    if S == '' or S[0] in [')',']','}']:\n",
        "        return 0\n",
        "    \n",
        "    stack = []\n",
        "    stack.append(S[0])\n",
        "    for i in range(1,len(S)):\n",
        "        if S[i] in ['(','[','{']:\n",
        "            stack.append(S[i])\n",
        "        else:\n",
        "            if len(stack) == 0:\n",
        "                return 0\n",
        "            val = stack.pop()\n",
        "            if S[i] == ')' and val == '(':\n",
        "                continue\n",
        "            elif S[i] == '}' and val == '{':\n",
        "                continue\n",
        "            elif S[i] == ']' and val == '[':\n",
        "                continue\n",
        "            else:\n",
        "                return 0\n",
        "    if len(stack) > 0:\n",
        "        return 0\n",
        "    return 1\n",
        "\n",
        "solution(S)"
      ],
      "execution_count": 3,
      "outputs": [
        {
          "output_type": "execute_result",
          "data": {
            "text/plain": [
              "0"
            ]
          },
          "metadata": {
            "tags": []
          },
          "execution_count": 3
        }
      ]
    },
    {
      "cell_type": "code",
      "metadata": {
        "colab": {
          "base_uri": "https://localhost:8080/"
        },
        "id": "BnSf-He7F0Y7",
        "outputId": "4ac2c882-3db1-4dc2-f605-e17839bf807b"
      },
      "source": [
        "S = '{[()()]}'\n",
        "S = '([)()]'\n",
        "\n",
        "def solution(S):\n",
        "    stack = []\n",
        "    for i in S:\n",
        "        if i in ['(','{','[']:\n",
        "            stack.append(i)\n",
        "        else:\n",
        "            if len(stack) == 0:\n",
        "                return 0\n",
        "            val = stack.pop()\n",
        "            if i == ')' and val != '(':\n",
        "                return 0\n",
        "            if i == ']' and val != '[':\n",
        "                return 0\n",
        "            if i == '}' and val != '{':\n",
        "                return 0\n",
        "    if len(stack) > 0:\n",
        "        return 0 \n",
        "    return 1\n",
        "\n",
        "solution(S)"
      ],
      "execution_count": 5,
      "outputs": [
        {
          "output_type": "execute_result",
          "data": {
            "text/plain": [
              "0"
            ]
          },
          "metadata": {
            "tags": []
          },
          "execution_count": 5
        }
      ]
    },
    {
      "cell_type": "markdown",
      "metadata": {
        "id": "B829bhGeGlS6"
      },
      "source": [
        "Fish"
      ]
    },
    {
      "cell_type": "code",
      "metadata": {
        "colab": {
          "base_uri": "https://localhost:8080/"
        },
        "id": "6bLmWHA0GmUG",
        "outputId": "36249eb5-e585-45dd-b143-f738f1c2a716"
      },
      "source": [
        "\n",
        "A = [4, 3, 2, 1, 5]\n",
        "B = [0, 1, 0, 0, 0]\n",
        "\n",
        "def solution(A, B):\n",
        "    arr = list(zip(A,B))\n",
        "    if len(arr) == 0:\n",
        "        return 0\n",
        "    stack = []\n",
        "    stack.append(arr[0])\n",
        "    stream = 0\n",
        "    for i in range(1,len(arr)):\n",
        "        #print(stack,arr[i], stack)\n",
        "        if stream == 1 and arr[i][1] == 1 and arr[i]> stack[-1]:\n",
        "            stream == 0\n",
        "            stack.pop()\n",
        "            stack.append(arr[i])\n",
        "        if stream == 0 and arr[i][1] == 1:\n",
        "            stream == 1\n",
        "            stack.append(arr[i][0])\n",
        "\n",
        "    return len(stack)\n",
        "\n",
        "solution(A,B)"
      ],
      "execution_count": 6,
      "outputs": [
        {
          "output_type": "execute_result",
          "data": {
            "text/plain": [
              "2"
            ]
          },
          "metadata": {
            "tags": []
          },
          "execution_count": 6
        }
      ]
    },
    {
      "cell_type": "code",
      "metadata": {
        "colab": {
          "base_uri": "https://localhost:8080/"
        },
        "id": "mfKLPN4tspbn",
        "outputId": "203b756b-dc9c-4bca-f5e0-5bd357972f28"
      },
      "source": [
        "\n",
        "A = [4, 3, 2, 1, 5]\n",
        "B = [0, 1, 0, 0, 0]\n",
        "\n",
        "#22%\n",
        "def solution(A, B):\n",
        "    # write your code in Python 3.6\n",
        "    arr = list(zip(A,B))\n",
        "    fishs = []\n",
        "    answer = 0\n",
        "    for fish, direction in arr:\n",
        "        if direction == 1:\n",
        "            fishs.append(fish)\n",
        "        else:\n",
        "            if not fishs:\n",
        "                answer += 1\n",
        "            else:\n",
        "                while not fishs:\n",
        "                    if fishs[-1] > fish:\n",
        "                        break\n",
        "                    else:\n",
        "                        fishs.pop()\n",
        "    return answer + len(fishs)\n",
        "\n",
        "solution(A,B)"
      ],
      "execution_count": 10,
      "outputs": [
        {
          "output_type": "execute_result",
          "data": {
            "text/plain": [
              "2"
            ]
          },
          "metadata": {
            "tags": []
          },
          "execution_count": 10
        }
      ]
    },
    {
      "cell_type": "code",
      "metadata": {
        "colab": {
          "base_uri": "https://localhost:8080/"
        },
        "id": "c5I5JArtv-P9",
        "outputId": "0f750892-b93a-46a4-e5c6-fa05c36b4ffd"
      },
      "source": [
        "\n",
        "A = [4, 3, 2, 1, 5]\n",
        "B = [0, 1, 0, 0, 0]\n",
        "\n",
        "#100% O(N)\n",
        "def solution(A, B):\n",
        "    # write your code in Python 3.6\n",
        "    stack = []\n",
        "    count = 0\n",
        "    for i in range(len(A)):\n",
        "        if B[i] == 1:\n",
        "            stack.append(A[i])\n",
        "        else:\n",
        "            while stack:\n",
        "                if stack[-1] > A[i]:\n",
        "                    break\n",
        "                else:\n",
        "                    stack.pop()\n",
        "            if not stack:\n",
        "                count += 1\n",
        "    return count + len(stack)\n",
        "\n",
        "solution(A,B)"
      ],
      "execution_count": 11,
      "outputs": [
        {
          "output_type": "execute_result",
          "data": {
            "text/plain": [
              "2"
            ]
          },
          "metadata": {
            "tags": []
          },
          "execution_count": 11
        }
      ]
    },
    {
      "cell_type": "markdown",
      "metadata": {
        "id": "6taDbmnxyjHi"
      },
      "source": [
        "Nesting"
      ]
    },
    {
      "cell_type": "code",
      "metadata": {
        "colab": {
          "base_uri": "https://localhost:8080/"
        },
        "id": "oorGJct6xFD2",
        "outputId": "78e725cd-9af6-4d32-abe4-d7b116bb25d4"
      },
      "source": [
        "S = '(()(())())'\n",
        "S = '())'\n",
        "\n",
        "#100%\n",
        "def solution(S):\n",
        "    # write your code in Python 3.6\n",
        "    stack = []\n",
        "    for i in S:\n",
        "        if i == '(':\n",
        "            stack.append(i)\n",
        "        else:\n",
        "            if not stack:\n",
        "                return 0\n",
        "            else:\n",
        "                stack.pop()\n",
        "    if len(stack) > 0:\n",
        "        return 0\n",
        "    return 1\n",
        "\n",
        "solution(S)"
      ],
      "execution_count": 12,
      "outputs": [
        {
          "output_type": "execute_result",
          "data": {
            "text/plain": [
              "0"
            ]
          },
          "metadata": {
            "tags": []
          },
          "execution_count": 12
        }
      ]
    },
    {
      "cell_type": "markdown",
      "metadata": {
        "id": "fO1Xy6qpyvLT"
      },
      "source": [
        "StoneWall"
      ]
    },
    {
      "cell_type": "code",
      "metadata": {
        "id": "iVkd32Tr4Zrm"
      },
      "source": [
        "numbers = [8, 8, 5, 7, 9, 8, 7, 4, 8]\n",
        "\n",
        "#28%\n",
        "def solution(H):\n",
        "    stack = []\n",
        "    min_val = 1000000\n",
        "    sec_min_val = 1000000\n",
        "    for i in H:\n",
        "        if min_val > i:\n",
        "            min_val = i\n",
        "            stack.append(i)\n",
        "        elif stack[-1] != i and min_val != i and sec_min_val != i:\n",
        "            if sec_min_val > i:\n",
        "                sec_min_val = i\n",
        "            stack.append(i)\n",
        "        \n",
        "    return len(stack)\n",
        "\n",
        "solution(numbers)"
      ],
      "execution_count": null,
      "outputs": []
    },
    {
      "cell_type": "code",
      "metadata": {
        "colab": {
          "base_uri": "https://localhost:8080/"
        },
        "id": "3KqKVQmy8aGo",
        "outputId": "d6b74555-3780-439a-9f3f-22f94399fd35"
      },
      "source": [
        "numbers = [8, 8, 5, 7, 9, 8, 7, 4, 8]\n",
        "numbers = [1,1,1]\n",
        "#28%\n",
        "def solution(H):\n",
        "    stack = []\n",
        "    count = 0\n",
        "    for i in H:\n",
        "        if not stack:\n",
        "            stack.append(i)\n",
        "            count += 1\n",
        "        elif stack[-1] != i:\n",
        "            if min(stack) > i:\n",
        "                stack.clear()\n",
        "                stack.append(i)\n",
        "                count += 1\n",
        "            elif i not in stack:\n",
        "                stack.append(i)\n",
        "                count += 1\n",
        "        #print(stack,i,count)\n",
        "    return count\n",
        "\n",
        "solution(numbers)"
      ],
      "execution_count": 15,
      "outputs": [
        {
          "output_type": "execute_result",
          "data": {
            "text/plain": [
              "1"
            ]
          },
          "metadata": {
            "tags": []
          },
          "execution_count": 15
        }
      ]
    },
    {
      "cell_type": "code",
      "metadata": {
        "id": "T4RcnI73CJ0k"
      },
      "source": [
        "numbers = [8, 8, 5, 7, 9, 8, 7, 4, 8]\n",
        "numbers = [1,1,1]\n",
        "\n",
        "#100% O(N)\n",
        "def solution(H):\n",
        "    # write your code in Python 3.6\n",
        "    stack = []\n",
        "    count = 0\n",
        "    for i in H:\n",
        "        print(stack,i)\n",
        "        while len(stack) > 0 and stack[-1] > i:\n",
        "            stack.pop()\n",
        "        if not stack or stack[-1] < i:\n",
        "            count += 1\n",
        "            stack.append(i)\n",
        "    return count\n",
        "\n",
        "solution(numbers)"
      ],
      "execution_count": null,
      "outputs": []
    }
  ]
}