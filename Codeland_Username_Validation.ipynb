{
  "nbformat": 4,
  "nbformat_minor": 0,
  "metadata": {
    "colab": {
      "name": "Codeland Username Validation.ipynb",
      "provenance": [],
      "authorship_tag": "ABX9TyPs7xvvLA33TQTFx6+thaCG",
      "include_colab_link": true
    },
    "kernelspec": {
      "name": "python3",
      "display_name": "Python 3"
    },
    "language_info": {
      "name": "python"
    }
  },
  "cells": [
    {
      "cell_type": "markdown",
      "metadata": {
        "id": "view-in-github",
        "colab_type": "text"
      },
      "source": [
        "<a href=\"https://colab.research.google.com/github/dbtwelve/codility/blob/main/Codeland_Username_Validation.ipynb\" target=\"_parent\"><img src=\"https://colab.research.google.com/assets/colab-badge.svg\" alt=\"Open In Colab\"/></a>"
      ]
    },
    {
      "cell_type": "markdown",
      "metadata": {
        "id": "jAWCcpTIQFOP"
      },
      "source": [
        "\n",
        "\n",
        "```\n",
        "Input: \"aa_\"\n",
        "Output: false\n",
        "\n",
        "Input: \"u__hello_world123\"\n",
        "Output: true\n",
        "```\n",
        "\n"
      ]
    },
    {
      "cell_type": "code",
      "metadata": {
        "id": "24OPcUCmQA0a"
      },
      "source": [
        "import re\n",
        "def CodelandUsernameValidation(strParam):\n",
        "  if len(strParam) >= 4 and len(strParam) <= 25:\n",
        "    if re.match('^[a-zA-z]',strParam):\n",
        "      if re.search('[\\w]',strParam):\n",
        "        if re.search('[^_]$',strParam):\n",
        "          return \"true\"\n",
        "  return \"false\"  \n",
        "  # code goes here\n",
        "  return strParam\n",
        "\n",
        "# keep this function call here \n",
        "print(CodelandUsernameValidation(input()))"
      ],
      "execution_count": null,
      "outputs": []
    },
    {
      "cell_type": "code",
      "metadata": {
        "id": "0UAIHL0wToEz"
      },
      "source": [
        "import re\n",
        "\n",
        "def CodelandUsernameValidation(str):\n",
        "  pattern = re.compile(r\"^[a-zA-Z][\\w_]{2,23}[^_]$\")\n",
        "  res = pattern.match(str)\n",
        "  str = \"true\" if res else \"false\"\n",
        "  return str\n",
        "\n",
        "# keep this function call here \n",
        "print(CodelandUsernameValidation(input()))"
      ],
      "execution_count": null,
      "outputs": []
    },
    {
      "cell_type": "code",
      "metadata": {
        "id": "LzS2yTiJXFTA"
      },
      "source": [
        "def CodelandUsernameValidation(string):\n",
        "  # code goes here\n",
        "  if len(string) < 4 or len(string) > 24:\n",
        "    return \"false\"\n",
        "  if string[-1] == \"_\":\n",
        "    return \"false\"\n",
        "  if not string[0].isalpha():\n",
        "    return \"false\"\n",
        "  for elem in string:\n",
        "    if not elem.isalpha() and not elem.isdigit() and not elem == \"_\":\n",
        "      return \"false\"\n",
        "  return \"true\"\n",
        "\n",
        "# keep this function call here \n",
        "print(CodelandUsernameValidation(input()))"
      ],
      "execution_count": null,
      "outputs": []
    }
  ]
}