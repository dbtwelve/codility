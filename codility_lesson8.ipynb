{
  "nbformat": 4,
  "nbformat_minor": 0,
  "metadata": {
    "colab": {
      "name": "codility_lesson8.ipynb",
      "provenance": [],
      "authorship_tag": "ABX9TyMDXFrlLpuSjJ+8nc6UzTW7",
      "include_colab_link": true
    },
    "kernelspec": {
      "name": "python3",
      "display_name": "Python 3"
    },
    "language_info": {
      "name": "python"
    }
  },
  "cells": [
    {
      "cell_type": "markdown",
      "metadata": {
        "id": "view-in-github",
        "colab_type": "text"
      },
      "source": [
        "<a href=\"https://colab.research.google.com/github/dbtwelve/codility/blob/main/codility_lesson8.ipynb\" target=\"_parent\"><img src=\"https://colab.research.google.com/assets/colab-badge.svg\" alt=\"Open In Colab\"/></a>"
      ]
    },
    {
      "cell_type": "markdown",
      "metadata": {
        "id": "1XFygIfoCoBP"
      },
      "source": [
        "# Leader"
      ]
    },
    {
      "cell_type": "markdown",
      "metadata": {
        "id": "jQXfhwr1Cn4Y"
      },
      "source": [
        "Dominator"
      ]
    },
    {
      "cell_type": "code",
      "metadata": {
        "colab": {
          "base_uri": "https://localhost:8080/"
        },
        "id": "RA7CYqb2ClfZ",
        "outputId": "7a5af6d6-6863-41ad-f4fa-14fb69fae588"
      },
      "source": [
        "numbers = [3, 4, 3, 2, 3, -1, 3, 3]\n",
        "numbers = [3, 4, 3, 2, 3, -1, 3, 3, 5]\n",
        "\n",
        "\n",
        "#25%\n",
        "from collections import Counter\n",
        "\n",
        "def solution(A):\n",
        "    # write your code in Python 3.6\n",
        "    half = len(A)//2\n",
        "    arr = Counter(A)\n",
        "    #print(A,arr.most_common(1)[0][1])\n",
        "    answer = -1\n",
        "    if arr.most_common(1)[0][1] not in A and arr.most_common(1)[0][1] > half:\n",
        "        \n",
        "        for i in range(len(A)):\n",
        "            #print(arr.most_common(1)[0][0], A[i],i, answer)\n",
        "            if arr.most_common(1)[0][0] == A[i]:\n",
        "                answer = i\n",
        "        return answer\n",
        "    return answer\n",
        "\n",
        "solution(numbers)"
      ],
      "execution_count": 1,
      "outputs": [
        {
          "output_type": "execute_result",
          "data": {
            "text/plain": [
              "-1"
            ]
          },
          "metadata": {
            "tags": []
          },
          "execution_count": 1
        }
      ]
    },
    {
      "cell_type": "code",
      "metadata": {
        "colab": {
          "base_uri": "https://localhost:8080/"
        },
        "id": "BiwmRDmCGO-T",
        "outputId": "45b105eb-cc81-4bf0-91fd-8e272179fcbf"
      },
      "source": [
        "numbers = [3, 4, 3, 2, 3, -1, 3, 3]\n",
        "numbers = [3, 4, 3, 2, 3, -1, 3, 3, 5]\n",
        "numbers = [-1, -1, -1, -1,-1,-1, 3, 3, 5, 5, 5]\n",
        "\n",
        "#50%\n",
        "\n",
        "from collections import Counter\n",
        "\n",
        "def solution(A):\n",
        "    answer = -1\n",
        "    if len(A) < 1:\n",
        "        return answer\n",
        "    half = len(A) // 2\n",
        "    arr = Counter(A)\n",
        "    #print(half, arr.most_common(1)[0][1])\n",
        "    if arr.most_common(1)[0][1] not in A and arr.most_common(1)[0][1] > half:\n",
        "        for i in range(len(A)):\n",
        "            if arr.most_common(1)[0][0] == A[i]:\n",
        "                return i\n",
        "    return answer\n",
        "\n",
        "solution(numbers)"
      ],
      "execution_count": 12,
      "outputs": [
        {
          "output_type": "execute_result",
          "data": {
            "text/plain": [
              "0"
            ]
          },
          "metadata": {
            "tags": []
          },
          "execution_count": 12
        }
      ]
    },
    {
      "cell_type": "code",
      "metadata": {
        "colab": {
          "base_uri": "https://localhost:8080/"
        },
        "id": "uifiR0bsKbhf",
        "outputId": "e036f2cd-3a95-4706-ea96-cce9002baaf9"
      },
      "source": [
        "numbers = [3, 4, 3, 2, 3, -1, 3, 3]\n",
        "numbers = [3, 4, 3, 2, 3, -1, 3, 3, 5]\n",
        "numbers = [-1, -1, -1, -1,-1,-1, 3, 3, 5, 5, 5]\n",
        "numbers = [1, 2, 1]\n",
        "\n",
        "#83% O(N*log(N)) or O(N) or O(N**2)\n",
        "\n",
        "from collections import Counter\n",
        "\n",
        "def solution(A):\n",
        "    answer = -1\n",
        "    if len(A) < 1:\n",
        "        return answer\n",
        "    half = len(A) // 2\n",
        "    arr = Counter(A)\n",
        "    print(half, arr.most_common(1)[0][1])\n",
        "    if arr.most_common(1)[0][1] > half:\n",
        "        for i in range(len(A)):\n",
        "            if arr.most_common(1)[0][0] == A[i]:\n",
        "                return i\n",
        "    return answer\n",
        "\n",
        "solution(numbers)"
      ],
      "execution_count": 14,
      "outputs": [
        {
          "output_type": "stream",
          "text": [
            "1 2\n"
          ],
          "name": "stdout"
        },
        {
          "output_type": "execute_result",
          "data": {
            "text/plain": [
              "-1"
            ]
          },
          "metadata": {
            "tags": []
          },
          "execution_count": 14
        }
      ]
    },
    {
      "cell_type": "code",
      "metadata": {
        "colab": {
          "base_uri": "https://localhost:8080/"
        },
        "id": "nTG59KUXMWfX",
        "outputId": "efb76211-e377-4848-e852-400dc6801bdf"
      },
      "source": [
        "numbers = [3, 4, 3, 2, 3, -1, 3, 3]\n",
        "numbers = [3, 4, 3, 2, 3, -1, 3, 3, 5]\n",
        "numbers = [-1, -1, -1, -1,-1,-1, 3, 3, 5, 5, 5]\n",
        "numbers = [1, 2, 1]\n",
        "\n",
        "#100% O(N*log(N)) or O(N)\n",
        "\n",
        "from collections import Counter\n",
        "\n",
        "def solution(A):\n",
        "    # write your code in Python 3.6\n",
        "    answer = -1\n",
        "    half = len(A)//2\n",
        "    arr = {}\n",
        "    for i in range(len(A)):\n",
        "        if A[i] not in arr:\n",
        "            arr[A[i]] = 1\n",
        "        else:\n",
        "            arr[A[i]] += 1\n",
        "        if arr[A[i]] > half:\n",
        "            return i\n",
        "    return answer\n",
        "\n",
        "solution(numbers)"
      ],
      "execution_count": 15,
      "outputs": [
        {
          "output_type": "execute_result",
          "data": {
            "text/plain": [
              "2"
            ]
          },
          "metadata": {
            "tags": []
          },
          "execution_count": 15
        }
      ]
    },
    {
      "cell_type": "markdown",
      "metadata": {
        "id": "brBz9IzmMmoW"
      },
      "source": [
        "equi_leader"
      ]
    },
    {
      "cell_type": "code",
      "metadata": {
        "colab": {
          "base_uri": "https://localhost:8080/"
        },
        "id": "dE61XbLZUnh6",
        "outputId": "acbb32bb-ba27-44bd-a20e-2f454cb1e820"
      },
      "source": [
        "numbers = [4, 3, 4, 4, 4, 2]\n",
        "\n",
        "#100% O(N)\n",
        "def solution(A):\n",
        "    # write your code in Python 3.6\n",
        "    answer = 0\n",
        "    right_dict = {}\n",
        "    for i in range(len(A)):\n",
        "        if A[i] not in right_dict:\n",
        "            right_dict[A[i]] = 1\n",
        "        else:\n",
        "            right_dict[A[i]] += 1\n",
        "    right_len = len(A)\n",
        "    left_len = 0\n",
        "    left_leader = 0\n",
        "    left_leader_count = 0\n",
        "    left_dict = {}\n",
        "    for i in A:\n",
        "        right_dict[i] -= 1\n",
        "        right_len -= 1\n",
        "\n",
        "        if i not in left_dict:\n",
        "            left_dict[i] = 1\n",
        "        else:\n",
        "            left_dict[i] += 1\n",
        "        left_len += 1\n",
        "        \n",
        "        if left_dict[i] > left_leader_count:\n",
        "            left_leader = i\n",
        "            left_leader_count = left_dict[i]\n",
        "        \n",
        "        if left_leader_count > left_len //2 and right_dict[left_leader] > right_len //2:\n",
        "            answer += 1\n",
        "    return answer\n",
        "\n",
        "solution(numbers)"
      ],
      "execution_count": 16,
      "outputs": [
        {
          "output_type": "execute_result",
          "data": {
            "text/plain": [
              "2"
            ]
          },
          "metadata": {
            "tags": []
          },
          "execution_count": 16
        }
      ]
    },
    {
      "cell_type": "code",
      "metadata": {
        "id": "piFydcNIMnI6"
      },
      "source": [
        ""
      ],
      "execution_count": null,
      "outputs": []
    }
  ]
}