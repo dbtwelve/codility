{
  "nbformat": 4,
  "nbformat_minor": 0,
  "metadata": {
    "colab": {
      "name": "codility_lesson2.ipynb",
      "provenance": [],
      "collapsed_sections": [],
      "authorship_tag": "ABX9TyNcWYkP2HxLzG3Fzfjl1O7H",
      "include_colab_link": true
    },
    "kernelspec": {
      "name": "python3",
      "display_name": "Python 3"
    },
    "language_info": {
      "name": "python"
    }
  },
  "cells": [
    {
      "cell_type": "markdown",
      "metadata": {
        "id": "view-in-github",
        "colab_type": "text"
      },
      "source": [
        "<a href=\"https://colab.research.google.com/github/dbtwelve/codility/blob/main/codility_lesson2.ipynb\" target=\"_parent\"><img src=\"https://colab.research.google.com/assets/colab-badge.svg\" alt=\"Open In Colab\"/></a>"
      ]
    },
    {
      "cell_type": "code",
      "metadata": {
        "id": "hnpP6FC0pTuA"
      },
      "source": [
        ""
      ],
      "execution_count": null,
      "outputs": []
    },
    {
      "cell_type": "markdown",
      "metadata": {
        "id": "STH1HSKdvs2T"
      },
      "source": [
        "# Arrays"
      ]
    },
    {
      "cell_type": "markdown",
      "metadata": {
        "id": "WSM443aDvJjg"
      },
      "source": [
        "OddOccurrencesInArray"
      ]
    },
    {
      "cell_type": "code",
      "metadata": {
        "colab": {
          "base_uri": "https://localhost:8080/"
        },
        "id": "r47ouOI5piMG",
        "outputId": "e019705b-7f97-433d-df4a-865105948bae"
      },
      "source": [
        "A = [9, 3, 9, 3, 9, 7, 9]\n",
        "\n",
        "def solution(A):\n",
        "    # write your code in Python 3.6\n",
        "    A.sort()\n",
        "    for i in range(0,len(A),2):\n",
        "        if i+1 == len(A):\n",
        "            return A[i]\n",
        "        if A[i] != A[i+1]:\n",
        "            return A[i]\n",
        "    \n",
        "solution(A)"
      ],
      "execution_count": null,
      "outputs": [
        {
          "output_type": "execute_result",
          "data": {
            "text/plain": [
              "7"
            ]
          },
          "metadata": {
            "tags": []
          },
          "execution_count": 1
        }
      ]
    },
    {
      "cell_type": "code",
      "metadata": {
        "colab": {
          "base_uri": "https://localhost:8080/"
        },
        "id": "lpv9xWiHqBXU",
        "outputId": "74d61d40-7d65-400a-8830-75b8c8c527a6"
      },
      "source": [
        "A = [9, 3, 9, 3, 9, 7, 9]\n",
        "\n",
        "def solution2(A):\n",
        "    # write your code in Python 3.6\n",
        "    sum = 0\n",
        "    for i in A:\n",
        "        sum = sum ^ i\n",
        "    return sum\n",
        "    \n",
        "solution2(A)"
      ],
      "execution_count": null,
      "outputs": [
        {
          "output_type": "execute_result",
          "data": {
            "text/plain": [
              "7"
            ]
          },
          "metadata": {
            "tags": []
          },
          "execution_count": 2
        }
      ]
    },
    {
      "cell_type": "code",
      "metadata": {
        "id": "zm2eHdekqPwY"
      },
      "source": [
        ""
      ],
      "execution_count": null,
      "outputs": []
    },
    {
      "cell_type": "markdown",
      "metadata": {
        "id": "oEgiEnnNu-Ru"
      },
      "source": [
        "CyclicRotation"
      ]
    },
    {
      "cell_type": "code",
      "metadata": {
        "colab": {
          "base_uri": "https://localhost:8080/"
        },
        "id": "SP2yc7G5scWY",
        "outputId": "8512072d-1ff2-4657-9c2e-b872e9cc48f1"
      },
      "source": [
        "A, K = [1, 2, 3, 4], 4\n",
        "A = [3, 8, 9, 7, 6]\n",
        "K = 3\n",
        "\n",
        "\n",
        "def solution(A, K):\n",
        "    N = len(A)\n",
        "    if N == K or N == 0 :\n",
        "        return A\n",
        "    return A[N-K:] + A[:N-K]\n",
        "\n",
        "solution(A,K)"
      ],
      "execution_count": null,
      "outputs": [
        {
          "output_type": "execute_result",
          "data": {
            "text/plain": [
              "[9, 7, 6, 3, 8]"
            ]
          },
          "metadata": {
            "tags": []
          },
          "execution_count": 5
        }
      ]
    }
  ]
}