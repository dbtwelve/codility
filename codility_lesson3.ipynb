{
  "nbformat": 4,
  "nbformat_minor": 0,
  "metadata": {
    "colab": {
      "name": "codility_lesson3.ipynb",
      "provenance": [],
      "authorship_tag": "ABX9TyNj96HT1bs2qSRw2KrJKmYs",
      "include_colab_link": true
    },
    "kernelspec": {
      "name": "python3",
      "display_name": "Python 3"
    },
    "language_info": {
      "name": "python"
    }
  },
  "cells": [
    {
      "cell_type": "markdown",
      "metadata": {
        "id": "view-in-github",
        "colab_type": "text"
      },
      "source": [
        "<a href=\"https://colab.research.google.com/github/dbtwelve/codility/blob/main/codility_lesson3.ipynb\" target=\"_parent\"><img src=\"https://colab.research.google.com/assets/colab-badge.svg\" alt=\"Open In Colab\"/></a>"
      ]
    },
    {
      "cell_type": "markdown",
      "metadata": {
        "id": "Ub3OpAba18DQ"
      },
      "source": [
        "# Time Complexity"
      ]
    },
    {
      "cell_type": "markdown",
      "metadata": {
        "id": "s5VY9mkw45TH"
      },
      "source": [
        "FrogJmp"
      ]
    },
    {
      "cell_type": "code",
      "metadata": {
        "colab": {
          "base_uri": "https://localhost:8080/"
        },
        "id": "kJJ-WSIC16bV",
        "outputId": "e76a9b09-d8e0-45a2-d779-1d4e0e8ae84a"
      },
      "source": [
        "X = 10\n",
        "Y = 85\n",
        "D = 30\n",
        "\n",
        "#테스트케이스 실패코드\n",
        "def solution(X, Y, D):\n",
        "    count = 0\n",
        "    while X < Y:\n",
        "        X += D\n",
        "        count += 1\n",
        "    return count\n",
        "\n",
        "solution(X,Y,D)"
      ],
      "execution_count": null,
      "outputs": [
        {
          "output_type": "execute_result",
          "data": {
            "text/plain": [
              "3"
            ]
          },
          "metadata": {
            "tags": []
          },
          "execution_count": 1
        }
      ]
    },
    {
      "cell_type": "code",
      "metadata": {
        "colab": {
          "base_uri": "https://localhost:8080/"
        },
        "id": "OHRoFd8Z31kr",
        "outputId": "f863aaee-68d4-4d8b-80c9-ea151b00954a"
      },
      "source": [
        "X = 10\n",
        "Y = 85\n",
        "D = 30\n",
        "\n",
        "import math\n",
        "\n",
        "def solution(X, Y, D):\n",
        "    return math.ceil((Y-X)/D)\n",
        "\n",
        "solution(X,Y,D)"
      ],
      "execution_count": null,
      "outputs": [
        {
          "output_type": "execute_result",
          "data": {
            "text/plain": [
              "3"
            ]
          },
          "metadata": {
            "tags": []
          },
          "execution_count": 3
        }
      ]
    },
    {
      "cell_type": "markdown",
      "metadata": {
        "id": "MbjQv79Z4-8U"
      },
      "source": [
        "PermMissingElem"
      ]
    },
    {
      "cell_type": "code",
      "metadata": {
        "id": "JqNsKHrq5Ckc"
      },
      "source": [
        "numbers = [2,3,1,5]\n",
        "\n",
        "#반복문 돌려서 하나하나 비교하면 타임아웃\n",
        "def solution(A):\n",
        "    N = len(A)\n",
        "    arr = [i for i in range(1,N+2)]\n",
        "    return sum(arr)-sum(A)\n",
        "\n",
        "solution(numbers)\n"
      ],
      "execution_count": null,
      "outputs": []
    },
    {
      "cell_type": "markdown",
      "metadata": {
        "id": "z3qO4Y0SBfeJ"
      },
      "source": [
        "TapeEquilibrium"
      ]
    },
    {
      "cell_type": "code",
      "metadata": {
        "colab": {
          "base_uri": "https://localhost:8080/"
        },
        "id": "154ZPoUlBf3-",
        "outputId": "4add7231-cc26-4db2-f20e-0fd7653f1215"
      },
      "source": [
        "numbers = [3,1,2,4,3]\n",
        "\n",
        "#테스트케이스 실패코드\n",
        "def solution(A):\n",
        "    sumA = abs(sum(A))\n",
        "    l = len(A)\n",
        "    sumVal = 0\n",
        "    diff = 99999999999\n",
        "    for i in range(l-1):\n",
        "        sumVal += A[i]\n",
        "        sumA -= A[i]\n",
        "        diff = min(diff,abs(sumVal-sumA))\n",
        "\n",
        "    return diff\n",
        "\n",
        "solution(numbers)"
      ],
      "execution_count": null,
      "outputs": [
        {
          "output_type": "execute_result",
          "data": {
            "text/plain": [
              "1"
            ]
          },
          "metadata": {
            "tags": []
          },
          "execution_count": 4
        }
      ]
    },
    {
      "cell_type": "markdown",
      "metadata": {
        "id": "nO2MX-wzIs-B"
      },
      "source": [
        "A가 [a, b, c, d, e]면\n",
        " \n",
        "\n",
        "P=1 , |(a) - (b+c+d+e)|  -> |(a+b+c+d+e) - 2(a)|\n",
        "\n",
        "P=2 , |(a+b) - (c+d+e)|  -> |(a+b+c+d+e) - 2(a+b)|\n",
        "\n",
        "P=3 , |(a+b+c) - (d+e)|  -> |(a+b+c+d+e) - 2(a+b+c)|\n",
        "\n",
        "P=4 , |(a+b+c+d) - (e)|  -> |(a+b+c+d+e) - 2(a+b+c+d)|"
      ]
    },
    {
      "cell_type": "code",
      "metadata": {
        "colab": {
          "base_uri": "https://localhost:8080/"
        },
        "id": "GdLdvENmIdQe",
        "outputId": "7f5b38d0-f26e-4eb1-8d4e-d56afae6b477"
      },
      "source": [
        "numbers = [3,1,2,4,3]\n",
        "\n",
        "def solution(A):\n",
        "    \n",
        "    s = sum(A)\n",
        "    b = 0\n",
        "    m = float('inf')    #양의 무한대\n",
        "    for i in A[:-1]:\n",
        "        b += i\n",
        "        S = abs(s-b*2)\n",
        "\n",
        "        if m > S :\n",
        "            m = S\n",
        "    return m\n",
        "\n",
        "solution(numbers)"
      ],
      "execution_count": null,
      "outputs": [
        {
          "output_type": "execute_result",
          "data": {
            "text/plain": [
              "1"
            ]
          },
          "metadata": {
            "tags": []
          },
          "execution_count": 5
        }
      ]
    }
  ]
}