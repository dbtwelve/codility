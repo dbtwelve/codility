{
  "nbformat": 4,
  "nbformat_minor": 0,
  "metadata": {
    "colab": {
      "name": "HTMLParser.ipynb",
      "provenance": [],
      "authorship_tag": "ABX9TyNXTbHMV+FIAB2kL0bLZcEq",
      "include_colab_link": true
    },
    "kernelspec": {
      "name": "python3",
      "display_name": "Python 3"
    },
    "language_info": {
      "name": "python"
    }
  },
  "cells": [
    {
      "cell_type": "markdown",
      "metadata": {
        "id": "view-in-github",
        "colab_type": "text"
      },
      "source": [
        "<a href=\"https://colab.research.google.com/github/dbtwelve/codility/blob/main/HTMLParser.ipynb\" target=\"_parent\"><img src=\"https://colab.research.google.com/assets/colab-badge.svg\" alt=\"Open In Colab\"/></a>"
      ]
    },
    {
      "cell_type": "markdown",
      "metadata": {
        "id": "u_-NIqy_JlkB"
      },
      "source": [
        "# HTML Parser - Part 1\n",
        "\n"
      ]
    },
    {
      "cell_type": "code",
      "metadata": {
        "id": "JHIVIvCbIjHZ"
      },
      "source": [
        "2\n",
        "<html><head><title>HTML Parser - I</title></head>\n",
        "<body data-modal-target class='1'><h1>HackerRank</h1><br /></body></html>\n",
        "\n",
        "\n",
        "from html.parser import HTMLParser\n",
        "\n",
        "class myHTMLParser(HTMLParser):\n",
        "    def handle_starttag(self, tag, attr):\n",
        "        print(\"Start :\", tag)\n",
        "        for i in attr:\n",
        "            print('->', i[0],'>',i[1])\n",
        "    def handle_endtag(self, tag):\n",
        "        print(\"End   :\", tag)\n",
        "    def handle_startendtag(self, tag, attr):\n",
        "        print(\"Empty :\", tag)\n",
        "        for i in attr:\n",
        "            print('->', i[0],'>',i[1])\n",
        "\n",
        "        \n",
        "parser = myHTMLParser()\n",
        "for _ in range(int(input())):\n",
        "    parser.feed(input())\n",
        "#parser.feed(''.join([input().strip() for _ in range(int(input()))]))"
      ],
      "execution_count": null,
      "outputs": []
    },
    {
      "cell_type": "markdown",
      "metadata": {
        "id": "Vs7V5nfpJoPT"
      },
      "source": [
        "# HTML Parser - Part 2\n",
        "\n"
      ]
    },
    {
      "cell_type": "code",
      "metadata": {
        "id": "lt3HNmDSJsZ7"
      },
      "source": [
        "4\n",
        "<!--[if IE 9]>IE9-specific content\n",
        "<![endif]-->\n",
        "<div> Welcome to HackerRank</div>\n",
        "<!--[if IE 9]>IE9-specific content<![endif]-->\n",
        "\n",
        "\n",
        "from html.parser import HTMLParser\n",
        "\n",
        "class MyHTMLParser(HTMLParser):\n",
        "    def handle_comment(self,data):\n",
        "        if '\\n' not in data:\n",
        "            print(\">>> Single-line Comment\")\n",
        "            print(data)\n",
        "        else: \n",
        "            print(\">>> Multi-line Comment\")\n",
        "            print(data)\n",
        "    def handle_data(self,data):\n",
        "        if '\\n' not in data:\n",
        "            print(\">>> Data\")\n",
        "            print(data)\n",
        "\n",
        "html = \"\"       \n",
        "for i in range(int(input())):\n",
        "    html += input().rstrip()\n",
        "    html += '\\n'\n",
        "    \n",
        "parser = MyHTMLParser()\n",
        "parser.feed(html)\n",
        "parser.close()"
      ],
      "execution_count": null,
      "outputs": []
    },
    {
      "cell_type": "markdown",
      "metadata": {
        "id": "UJPgNuXnNlQP"
      },
      "source": [
        "# Detect HTML Tags, Attributes and Attribute Values\n",
        "\n"
      ]
    },
    {
      "cell_type": "code",
      "metadata": {
        "id": "dYtUXUBVNnvL"
      },
      "source": [
        "9\n",
        "<head>\n",
        "<title>HTML</title>\n",
        "</head>\n",
        "<object type=\"application/x-flash\" \n",
        "  data=\"your-file.swf\" \n",
        "  width=\"0\" height=\"0\">\n",
        "  <!-- <param name=\"movie\" value=\"your-file.swf\" /> -->\n",
        "  <param name=\"quality\" value=\"high\"/>\n",
        "</object>\n",
        "\n",
        "from html.parser import HTMLParser\n",
        "\n",
        "class myHTMLParser(HTMLParser):\n",
        "    def handle_starttag(self, tag, attrs):\n",
        "        print(tag)\n",
        "        for i in attrs:\n",
        "            print('->',i[0],'>',i[1])\n",
        "            \n",
        "parser = myHTMLParser()\n",
        "for _ in range(int(input())):\n",
        "    parser.feed(input())"
      ],
      "execution_count": null,
      "outputs": []
    }
  ]
}