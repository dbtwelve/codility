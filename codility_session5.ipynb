{
  "nbformat": 4,
  "nbformat_minor": 0,
  "metadata": {
    "colab": {
      "name": "codility_session5.ipynb",
      "provenance": [],
      "authorship_tag": "ABX9TyN9qRhpZbFbPufLssiieZc7",
      "include_colab_link": true
    },
    "kernelspec": {
      "name": "python3",
      "display_name": "Python 3"
    },
    "language_info": {
      "name": "python"
    }
  },
  "cells": [
    {
      "cell_type": "markdown",
      "metadata": {
        "id": "view-in-github",
        "colab_type": "text"
      },
      "source": [
        "<a href=\"https://colab.research.google.com/github/dbtwelve/codility/blob/main/codility_session5.ipynb\" target=\"_parent\"><img src=\"https://colab.research.google.com/assets/colab-badge.svg\" alt=\"Open In Colab\"/></a>"
      ]
    },
    {
      "cell_type": "markdown",
      "metadata": {
        "id": "tEIkcn_2H9Li"
      },
      "source": [
        "# Prefix Sums"
      ]
    },
    {
      "cell_type": "markdown",
      "metadata": {
        "id": "NPYNskyWH9DM"
      },
      "source": [
        "CountDiv"
      ]
    },
    {
      "cell_type": "code",
      "metadata": {
        "colab": {
          "base_uri": "https://localhost:8080/"
        },
        "id": "51xHDE9rH57w",
        "outputId": "11c58559-0045-4e94-b315-1a0550bdd671"
      },
      "source": [
        "A,B,K =6, 11, 2\n",
        "\"\"\"\n",
        "A = 11\n",
        "B = 345\n",
        "K = 17\n",
        "\"\"\"\n",
        "def solution(A, B, K):\n",
        "    arr = []\n",
        "    start = (A%K) + A\n",
        "    print(list(range(A,B+1)))\n",
        "    for i in range(start,B+1,K):\n",
        "        print(i,i / K )\n",
        "        if (i % K) == 0:\n",
        "            arr.append(i)\n",
        "    \n",
        "    return len(arr)\n",
        "\n",
        "solution(A,B,K)"
      ],
      "execution_count": null,
      "outputs": [
        {
          "output_type": "stream",
          "text": [
            "[6, 7, 8, 9, 10, 11]\n",
            "6 3.0\n",
            "8 4.0\n",
            "10 5.0\n"
          ],
          "name": "stdout"
        },
        {
          "output_type": "execute_result",
          "data": {
            "text/plain": [
              "3"
            ]
          },
          "metadata": {
            "tags": []
          },
          "execution_count": 12
        }
      ]
    },
    {
      "cell_type": "code",
      "metadata": {
        "colab": {
          "base_uri": "https://localhost:8080/"
        },
        "id": "RgvW48GpcYgz",
        "outputId": "bc9812fa-7477-4bbb-d3b5-767017c0cc96"
      },
      "source": [
        "A,B,K =6, 11, 2\n",
        "\n",
        "def solution(A, B, K):\n",
        "    AK = A//K - (1 if A%K == 0 else 0)\n",
        "    BK = B//K\n",
        "    print(BK,AK)\n",
        "    return BK - AK\n",
        "\n",
        "solution(A,B,K)\n"
      ],
      "execution_count": null,
      "outputs": [
        {
          "output_type": "stream",
          "text": [
            "5 2\n"
          ],
          "name": "stdout"
        },
        {
          "output_type": "execute_result",
          "data": {
            "text/plain": [
              "3"
            ]
          },
          "metadata": {
            "tags": []
          },
          "execution_count": 16
        }
      ]
    },
    {
      "cell_type": "markdown",
      "metadata": {
        "id": "kdJxm4yao0TU"
      },
      "source": [
        "GenomicRangeQuery"
      ]
    },
    {
      "cell_type": "code",
      "metadata": {
        "colab": {
          "base_uri": "https://localhost:8080/"
        },
        "id": "WEqXMKQzo0z9",
        "outputId": "47a76792-7893-44ca-c421-37899fe57832"
      },
      "source": [
        "S = 'CAGCCTA'\n",
        "P = [2, 5, 0]\n",
        "Q = [4, 5, 6]\n",
        "\n",
        "#62%\n",
        "def solution(S, P, Q):\n",
        "    # write your code in Python 3.6\n",
        "    g = ['A','C','G','T']\n",
        "    g_dic = {k:i+1 for i,k in enumerate(g)}\n",
        "    arr=list(S)\n",
        "    for i in range(len(arr)):\n",
        "        arr[i] = g_dic[arr[i]]\n",
        "    answer = []    \n",
        "    for i in range(len(P)):\n",
        "        answer.append(min(arr[P[i]:Q[i]+1]))\n",
        "\n",
        "    return answer\n",
        "\n",
        "solution(S,P,Q)"
      ],
      "execution_count": null,
      "outputs": [
        {
          "output_type": "execute_result",
          "data": {
            "text/plain": [
              "[2, 4, 1]"
            ]
          },
          "metadata": {
            "tags": []
          },
          "execution_count": 17
        }
      ]
    },
    {
      "cell_type": "code",
      "metadata": {
        "colab": {
          "base_uri": "https://localhost:8080/"
        },
        "id": "7ALHxHnDpPEk",
        "outputId": "9e63ce57-1db7-4790-eac4-20ef7c81d9ed"
      },
      "source": [
        "S = 'CAGCCTA'\n",
        "P = [2, 5, 0]\n",
        "Q = [4, 5, 6]\n",
        "\n",
        "#100%\n",
        "def mintype(factors):\n",
        "    if 'A' in factors:\n",
        "        return 1\n",
        "    if 'C' in factors:\n",
        "        return 2\n",
        "    if 'G' in factors:\n",
        "        return 3\n",
        "    if 'T' in factors:\n",
        "        return 4\n",
        "\n",
        "\n",
        "def solution(S, P, Q):\n",
        "    answer = []\n",
        "    for i in range(len(P)):\n",
        "        answer.append(mintype(S[P[i]:Q[i]+1]))\n",
        "    return answer\n",
        "\n",
        "solution(S,P,Q)"
      ],
      "execution_count": null,
      "outputs": [
        {
          "output_type": "execute_result",
          "data": {
            "text/plain": [
              "[2, 4, 1]"
            ]
          },
          "metadata": {
            "tags": []
          },
          "execution_count": 20
        }
      ]
    },
    {
      "cell_type": "markdown",
      "metadata": {
        "id": "IJTvIlcXvgQG"
      },
      "source": [
        "min_avg_two_slice"
      ]
    },
    {
      "cell_type": "code",
      "metadata": {
        "colab": {
          "base_uri": "https://localhost:8080/"
        },
        "id": "vQqbmMmyvg4c",
        "outputId": "601a3870-2c0c-4b6a-8fe0-1a0cf7d5c9ce"
      },
      "source": [
        "numbers = [4, 2, 2, 5, 1, 5, 8]\n",
        "\n",
        "#20%\n",
        "def solution(A):\n",
        "    l = len(A)\n",
        "    if l < 2:\n",
        "        return 0\n",
        "    curmin = minval = max(A)\n",
        "    answer = 0\n",
        "    for i in range(l-2):\n",
        "        for j in range(i+2,l):\n",
        "            curmin = min(curmin,sum(A[i:j])/len(A[i:j]))\n",
        "            if curmin < minval:\n",
        "                #print(i,curmin, minval, A[i:j])\n",
        "                minval = curmin\n",
        "                answer = i\n",
        "    return answer\n",
        "\n",
        "solution(numbers)"
      ],
      "execution_count": null,
      "outputs": [
        {
          "output_type": "execute_result",
          "data": {
            "text/plain": [
              "1"
            ]
          },
          "metadata": {
            "tags": []
          },
          "execution_count": 21
        }
      ]
    },
    {
      "cell_type": "code",
      "metadata": {
        "colab": {
          "base_uri": "https://localhost:8080/"
        },
        "id": "3vmRadBR0KO6",
        "outputId": "adf84fba-c1c2-4364-ff53-0cd501c5c303"
      },
      "source": [
        "arr = [-3, -5, -8, -4, -10]\n",
        "for i in range(len(arr)):\n",
        "    print(sum(arr[i:])/len(arr[i:]))\n"
      ],
      "execution_count": null,
      "outputs": [
        {
          "output_type": "stream",
          "text": [
            "-6.0\n",
            "-6.75\n",
            "-7.333333333333333\n",
            "-7.0\n",
            "-10.0\n"
          ],
          "name": "stdout"
        }
      ]
    },
    {
      "cell_type": "code",
      "metadata": {
        "colab": {
          "base_uri": "https://localhost:8080/"
        },
        "id": "hQO1ihQCiB_Z",
        "outputId": "12baf43e-a0e9-46c1-b9be-798e373cca48"
      },
      "source": [
        "numbers = [4, 2, 2, 5, 1, 5, 8]\n",
        "\n",
        "#100%\n",
        "def solution(A):\n",
        "    min_val = max(A)\n",
        "    min_i = 0\n",
        "    for i in range(0,len(A)-1):\n",
        "        #print(\"2:\",min_i,min_val,sum(A[i:i+1])/2,A[i:i+2])\n",
        "        #print(\"3:\",min_i,min_val,sum(A[i:i+2])/3,A[i:i+3])\n",
        "        if min_val > sum(A[i:i+2])/2:\n",
        "            min_val = sum(A[i:i+2])/2\n",
        "            min_i  = i\n",
        "        if i != len(A)-2 and min_val > sum(A[i:i+3])/3:\n",
        "            min_val = sum(A[i:i+3])/3\n",
        "            min_i  = i\n",
        "    return min_i\n",
        "\n",
        "solution(numbers)"
      ],
      "execution_count": 2,
      "outputs": [
        {
          "output_type": "execute_result",
          "data": {
            "text/plain": [
              "1"
            ]
          },
          "metadata": {
            "tags": []
          },
          "execution_count": 2
        }
      ]
    },
    {
      "cell_type": "markdown",
      "metadata": {
        "id": "8oKZsfCxibjt"
      },
      "source": [
        "passing cars"
      ]
    },
    {
      "cell_type": "code",
      "metadata": {
        "colab": {
          "base_uri": "https://localhost:8080/"
        },
        "id": "JhPWHiI7ibIt",
        "outputId": "ac7c2e97-7be1-4cbb-b6d6-82a7d813d62b"
      },
      "source": [
        "numbers = [0, 1, 0, 1, 1]\n",
        "numbers = [0, 1, 0, 1, 1, 0, 1, 0, 1]\n",
        "\n",
        "\n",
        "#50% O(N ** 2)\n",
        "def solution(A):\n",
        "    # write your code in Python 3.6\n",
        "    l = len(A)\n",
        "    answer = 0\n",
        "    if l < 1:\n",
        "        return -1\n",
        "    for i in range(l):\n",
        "        if A[i] == 0:\n",
        "            for j in range(i,l):\n",
        "                if A[j] == 1:\n",
        "                    #print(i,j)\n",
        "                    answer += 1\n",
        "    return answer\n",
        "\n",
        "solution(numbers)"
      ],
      "execution_count": 4,
      "outputs": [
        {
          "output_type": "execute_result",
          "data": {
            "text/plain": [
              "12"
            ]
          },
          "metadata": {
            "tags": []
          },
          "execution_count": 4
        }
      ]
    },
    {
      "cell_type": "code",
      "metadata": {
        "id": "_QSb3FrDpjfz"
      },
      "source": [
        "numbers = [0, 1, 0, 1, 1]\n",
        "numbers = [0, 1, 0, 1, 1, 0, 1, 0, 1]\n",
        "\n",
        "#50% O(N ** 2)\n",
        "def solution(A):\n",
        "    l = len(A)\n",
        "    if l < 1:\n",
        "        return -1\n",
        "    answer = 0\n",
        "    for i in range(l):\n",
        "        if A[i] == 0:\n",
        "            answer += sum(A[i:])\n",
        "        if answer > 1000000000:\n",
        "            return -1\n",
        "    return answer\n",
        "\n",
        "\n",
        "solution(numbers)"
      ],
      "execution_count": null,
      "outputs": []
    },
    {
      "cell_type": "code",
      "metadata": {
        "id": "pGVjr8AKr_D_"
      },
      "source": [
        "numbers = [0, 1, 0, 1, 1]\n",
        "numbers = [0, 1, 0, 1, 1, 0, 1, 0, 1]\n",
        "\n",
        "#100% O(N)\n",
        "def solution(A):\n",
        "    # write your code in Python 3.6\n",
        "    count = 0\n",
        "    answer = 0\n",
        "    if len(A) < 1:\n",
        "        return -1\n",
        "    for i in A:\n",
        "        if i == 0:\n",
        "            count += 1\n",
        "        if i == 1:\n",
        "            answer += count\n",
        "    if answer > 1000000000:\n",
        "        return -1\n",
        "    return answer\n",
        "\n",
        "\n",
        "solution(numbers)"
      ],
      "execution_count": null,
      "outputs": []
    }
  ]
}